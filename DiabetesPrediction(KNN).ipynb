{
  "nbformat": 4,
  "nbformat_minor": 0,
  "metadata": {
    "colab": {
      "provenance": [],
      "authorship_tag": "ABX9TyN8vKIvetVtGL+bHrZOfweQ",
      "include_colab_link": true
    },
    "kernelspec": {
      "name": "python3",
      "display_name": "Python 3"
    },
    "language_info": {
      "name": "python"
    }
  },
  "cells": [
    {
      "cell_type": "markdown",
      "metadata": {
        "id": "view-in-github",
        "colab_type": "text"
      },
      "source": [
        "<a href=\"https://colab.research.google.com/github/NS220310/AQI_Prediction/blob/main/DiabetesPrediction(KNN).ipynb\" target=\"_parent\"><img src=\"https://colab.research.google.com/assets/colab-badge.svg\" alt=\"Open In Colab\"/></a>"
      ]
    },
    {
      "cell_type": "code",
      "execution_count": 1,
      "metadata": {
        "id": "cJjE8gFA6Zgk"
      },
      "outputs": [],
      "source": [
        "import pandas as pd\n",
        "import numpy as np\n",
        "import seaborn as sns\n",
        "import matplotlib.pyplot as plt\n"
      ]
    },
    {
      "cell_type": "code",
      "source": [
        "df = pd.read_csv(\"/content/diabetes.csv\")"
      ],
      "metadata": {
        "id": "4h97wNlv7iYX"
      },
      "execution_count": 2,
      "outputs": []
    },
    {
      "cell_type": "code",
      "source": [
        "#splitting data into dependent and independent data\n",
        "X = df.drop(['Outcome'],axis='columns')\n",
        "Y = df['Outcome']"
      ],
      "metadata": {
        "id": "NgTL7y1w844Y"
      },
      "execution_count": 3,
      "outputs": []
    },
    {
      "cell_type": "code",
      "source": [
        "#splitting data into testing and training data\n",
        "from sklearn.model_selection import train_test_split\n",
        "X_train,X_test,Y_train,Y_test=train_test_split(X,Y,train_size=0.8,random_state=7)#random state prevents ambiguity in split data it remains the same everytime we run the program\n"
      ],
      "metadata": {
        "id": "WCbVU9aY9aO3"
      },
      "execution_count": 4,
      "outputs": []
    },
    {
      "cell_type": "code",
      "source": [
        "#KNN\n",
        "from sklearn.neighbors import KNeighborsClassifier\n",
        "knn = KNeighborsClassifier(n_neighbors=7)\n",
        "knn.fit(X_train,Y_train)\n",
        "y_predicted=knn.predict(X_test)\n",
        "print(\"first five actual vaalues\")\n",
        "print(np.array(Y_test[0:5]))\n",
        "print(\"first five predicted values\")\n",
        "print(y_predicted[0:5])\n",
        "knn.score(X_test,Y_test)"
      ],
      "metadata": {
        "colab": {
          "base_uri": "https://localhost:8080/"
        },
        "id": "BN6ijWXB-N7m",
        "outputId": "751a7a1f-91b9-483d-9330-92939ccbdd17"
      },
      "execution_count": 8,
      "outputs": [
        {
          "output_type": "stream",
          "name": "stdout",
          "text": [
            "first five actual vaalues\n",
            "[0 1 1 0 1]\n",
            "first five predicted values\n",
            "[0 1 1 0 1]\n"
          ]
        },
        {
          "output_type": "execute_result",
          "data": {
            "text/plain": [
              "0.7077922077922078"
            ]
          },
          "metadata": {},
          "execution_count": 8
        }
      ]
    },
    {
      "cell_type": "code",
      "source": [
        "from sklearn import metrics\n",
        "matrix = metrics.confusion_matrix(y_predicted,Y_test)\n",
        "sns.heatmap(matrix,annot=True,cmap=\"Blues\")\n",
        "plt.title(\"confusion matrix\")\n",
        "plt.xlabel(\"predicted values\")\n",
        "plt.ylabel(\"test values\")\n",
        "plt.show()"
      ],
      "metadata": {
        "colab": {
          "base_uri": "https://localhost:8080/",
          "height": 472
        },
        "id": "66x8DU8qSPF-",
        "outputId": "d09dc1bc-6dad-426c-ecd5-426ac8d1e673"
      },
      "execution_count": 10,
      "outputs": [
        {
          "output_type": "display_data",
          "data": {
            "text/plain": [
              "<Figure size 640x480 with 2 Axes>"
            ],
            "image/png": "[encoded data removed]"
          },
          "metadata": {}
        }
      ]
    }
  ]
}